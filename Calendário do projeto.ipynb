{
 "cells": [
  {
   "cell_type": "markdown",
   "metadata": {},
   "source": [
    "# <ins>**Calendário**</ins>\n"
   ]
  },
  {
   "cell_type": "markdown",
   "metadata": {},
   "source": [
    "## *Até 13 de Fevereiro - <ins>Escolha dos Projetos</ins>*  \n",
    "- **Já Concluído:** A escolha do projeto e a indicação das preferências no link fornecido.  "
   ]
  },
  {
   "cell_type": "markdown",
   "metadata": {},
   "source": [
    "## *Até 5 de Abril - <ins>Entrega do Artigo Intercalar</ins>*  \n",
    "- <ins>**Imediatamente:**</ins> Começar a revisão de literatura e o estudo do estado da arte.  \n",
    "- **Fevereiro a Março:** Definição da solução e realização da validação preliminar das metodologias a serem utilizadas.  \n",
    "- **Março:** Iniciar a redação do artigo intercalar, assegurando que todos os aspectos requeridos (objetivos do projeto, estado da arte, análise preliminar do problema, metodologias, e plano de trabalhos) sejam incluídos.  \n",
    "- **Final de Março a Início de Abril:** Revisão e finalização do artigo intercalar, preparando-o para submissão até ao dia 5 de Abril."
   ]
  },
  {
   "cell_type": "markdown",
   "metadata": {},
   "source": [
    "### *29 de Maio - <ins>Apresentação</ins>*  \n",
    "- **Abril a Maio:** Desenvolvimento do projeto conforme o plano de trabalhos e recolha de resultados.  \n",
    "- **Meio de Maio:** Preparação dos slides para a apresentação, garantindo que os resultados principais sejam destacados de forma clara e eficaz.  \n",
    "- **Fim de Maio:** Ensaio da apresentação para garantir que o tempo de 12 minutos seja respeitado e o feedback possa ser incorporado no trabalho final."
   ]
  },
  {
   "cell_type": "markdown",
   "metadata": {},
   "source": [
    "### *Até 19 de Junho - <ins>Entrega do Artigo Final</ins>*  \n",
    "- **Após a Apresentação até Início de Junho:** Revisão do projeto com base no feedback recebido durante a apresentação, finalização da análise de resultados e discussões.  \n",
    "- **Início de Junho a Meados de Junho:** Escrita do artigo final, incluindo objetivos, estado da arte, descrição do problema, métodos, resultados, discussões e conclusões.  \n",
    "- **Meados de Junho:** Revisão final do artigo e preparação para submissão até o dia 19 de Junho.  "
   ]
  },
  {
   "cell_type": "markdown",
   "metadata": {},
   "source": [
    "### *<ins>Durante Todo o Projeto</ins>*  \n",
    "- **Organização do Repositório Online:** Manter o repositório online atualizado com todas as versões dos artigos, slides da apresentação, e qualquer material suplementar relevante"
   ]
  },
  {
   "cell_type": "markdown",
   "metadata": {},
   "source": []
  }
 ],
 "metadata": {
  "language_info": {
   "name": "python"
  }
 },
 "nbformat": 4,
 "nbformat_minor": 2
}
