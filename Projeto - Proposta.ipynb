{
 "cells": [
  {
   "cell_type": "markdown",
   "metadata": {},
   "source": [
    "# Projeto  \n",
    "  \n",
    "**Tema (ID)** :15  \n",
    "  \n",
    "**Proponente:** David Henriques – CSIC IIM (Vigo, Spain)  \n",
    "  \n",
    "**Título:** Visualization of Single-Cell Transcriptomics from Zebrafish Pigment Cells  \n",
    "  \n",
    "**Contacto:** davidpcnet@hotmail.com  \n",
    "  \n",
    "**Descrição:**\n",
    "The pigmentation of the model organism zebrafish (*Danio rerio*) has long attracted the curiosity of researchers. Fish patterns emerge from an array of pigment cells of different colours: yellow xanthophores that absorb blue light, reflective silvery or blue iridophores, and black melanophores that absorb light across the spectrum. These cells originate from precursors of the neural crest and follow different developmental pathways. The proliferation of these cells is influenced by a variety of endocrine, paracrine, and autocrine factors. Despite the wealth of research on zebrafish pigmentation, fully understanding the complexity of factors that influence its pigmentation phenotype remains a challenge. Ongoing discoveries and emerging regulatory principles [1] underscore the dynamic and evolving nature of this area of research. \n",
    "From a biological perspective, the advent of single-cell transcriptomics has revolutionized the study of tissues organs, and whole organisms, particularly those consisting of a heterogeneous assortment of cell types. The zebrafish has been extensively studied under this lens, with several works focusing on embryonic stages [2,3] and organs, including the skin [4]. One approach for single-cell analysis involves arranging cells according to their similarity and employing modern dimensionality reduction techniques to perform pseudo-time analysis. Among the many available tools for this task, two popular methods are Monocle and Slingshot (documentation below). Using the previously mentioned tools and datasets, during the project I expect that you can:\n",
    "\n",
    "1. Identify cell-type lineages in zebrafish single-cell transcriptomics.\n",
    "2. Visualize key gene markers of pigment cell differentiation.\n",
    "3. Acquire a basic understanding of the methods and algorithms and explain them in your own words.\n",
    "\n",
    "## **Software Documentation:**\n",
    "**Monocle:** https://cole-trapnell-lab.github.io/monocle-release/  \n",
    "**Slingshot:** https://bioconductor.org/packages/devel/bioc/vignettes/slingshot/inst/doc/vignette.html   \n",
    "\n",
    "## **References** \n",
    "\n",
    "[1] T. Subkhankulova, K. Camargo Sosa, L.A. Uroshlev, M. Nikaido, N. Shriever, A.S. Kasianov, X. Yang, F. S Rodrigues, T. J. Carney, G. Bavister, et al. \"Zebrafish pigment cells develop directly from persistent highly multipotent progenitors.\" Nature Communications, 14(1):1258, 2023.  \n",
    "  \n",
    "[2] Saunders, L.M., Srivatsan, S.R., Duran, M., Dorrity, M.W., Ewing, B., Linbo, T.H., Shendure, J., Raible, D.W., Moens, C.B., Kimelman, D., and Trapnell, C., 2023. \"Embryo-scale reverse genetics at single-cell resolution.\" Nature, pp.1-10.  \n",
    "  \n",
    "[3] Fabian, P., Tseng, K.C., Thiruppathy, M., Arata, C., Chen, H.J., Smeeton, J., Nelson, N., and Crump, J.G., 2022. \"Lifelong single-cell profiling of cranial neural crest diversification in zebrafish.\" Nature Communications, 13(1), p.13.  \n",
    "  \n",
    "[4] L. M. Saunders, A. K. Mishra, A. J. Aman, V. M. Lewis, M. B. Toomey, J. S. Packer, X. Qiu, J. L. McFaline-Figueroa, J. C.\n",
    "Corbo, C. Trapnell, et al. \"Thyroid hormone regulates distinct paths to maturation in pigment cell lineages.\" Elife, 8:e45181, 2019."
   ]
  },
  {
   "cell_type": "code",
   "execution_count": null,
   "metadata": {},
   "outputs": [],
   "source": []
  }
 ],
 "metadata": {
  "language_info": {
   "name": "python"
  }
 },
 "nbformat": 4,
 "nbformat_minor": 2
}
