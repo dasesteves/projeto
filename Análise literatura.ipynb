{
 "cells": [
  {
   "cell_type": "markdown",
   "metadata": {},
   "source": [
    "Documento para resumir os pontos-chave, métodos e descobertas da literatura disponivel"
   ]
  },
  {
   "cell_type": "markdown",
   "metadata": {},
   "source": [
    "**Aplicação de Monocle e Slingshot**\n",
    "\n",
    "**Análise com Monocle:** Para ordenar as células de acordo com as trajectórias de diferenciação. Permite identificar os estados de transição críticos e os caminhos de desenvolvimento das células pigmentadas.  \n",
    "\n",
    "**Trajetórias com Slingshot**: Para inferir trajectórias mais detalhadas e comparar diferentes linhagens celulares. Isso pode revelar *insights* sobre a diferenciação das células pigmentadas e as vias genéticas envolvidas."
   ]
  },
  {
   "cell_type": "markdown",
   "metadata": {},
   "source": [
    "\n",
    "**Artigo 1: Zebrafish Pigment Cells Develop Directly from Persistent Highly Multipotent Progenitors**  \n",
    "\n",
    "**Resumo:  **\n",
    "\n",
    "Este estudo investiga como as células da crista neural (NCCs), que são células-tronco altamente multipotentes, restringem seu destino a fates específicos no desenvolvimento de células pigmentares de peixe-zebra. A pesquisa examina dois modelos de restrição de destino: Restrição de Destino Direta (DFR), onde se hipotetiza que as células migratórias mantêm total multipotência até a diferenciação direta em fates singulares, e Restrição de Destino Progressiva (PFR), que propõe que as NCCs totalmente multipotentes transitam para intermediários parcialmente restritos antes de se comprometerem com destinos individuais.  \n",
    "\n",
    "Utilizando perfilamento transcricional de célula única por hibridização NanoString e hibridização in situ RNAscope, os autores mostram que as NCCs retêm ampla multipotência durante a migração e mesmo em células pós-migratórias in vivo, sem evidências de intermediários parcialmente restritos. A expressão precoce da tirosina quinase de leucócitos marca um estágio multipotente, com sinalização conduzindo a diferenciação de iridóforos através da repressão de fatores de transcrição específicos de destino para outros fates.  \n",
    "\n",
    "O estudo propõe reconciliar os modelos DFR e PFR sugerindo que o desenvolvimento de células pigmentares ocorre diretamente, mas de forma dinâmica, a partir de um estado altamente multipotente, alinhando-se com o modelo recentemente proposto de Restrição de Destino Cíclica (CFR).  \n",
    "\n",
    "A expressão da tirosina quinase de leucócitos (ltk) foi particularmente notável nos perfis de célula única, mostrando expressão relativamente alta tanto em ltHMPs (progenitores altamente multipotentes) quanto em iridóforos. Estudos anteriores já haviam demonstrado a expressão de ltk num subconjunto de NCCs em estágios pré-migratórios, mantendo e aumentando a expressão em iridoblastos especificados e iridóforos em diferenciação. Aproveitando o protocolo otimizado de RNAscope, este estudo confirma e expande essas observações.  \n",
    "\n",
    "Foi testada a hipótese de que a atividade de Ltk promove a diferenciação de iridóforos a partir de progenitores multipotentes. A expressão de sinalização de Ltk constitutivamente ativa em NCCs promoveu a formação de iridóforos ectópicos e supernumerários em detrimento de outros destinos celulares. Utilizou-se a ativação constitutiva de Ltk através da geração de uma fusão N-terminal com a Nucleofosmina humana, NPM-Ltk, dirigida por promotor de sox10, indicando que NCCs expressando NPM-Ltk tendem a diferenciar-se em iridóforos.  \n",
    "\n",
    "Para testar diretamente a multipotência de células expressando ltk, foi usada mapeamento do destino com expressão transiente de um transgene ltk:gfp, examinando a previsão de que a expressão de proteína fluorescente verde (GFP) sob as regiões regulatórias transcricionais de ltk deveria marcar todas as células pigmentares, mas também outros derivados (por exemplo, neurais).  \n",
    "\n",
    "Principais Pontos:\n",
    "\n",
    "- As NCCs de peixe-zebra retêm uma ampla multipotência ao longo do desenvolvimento de células pigmentares, desafiando a noção de intermediários parcialmente restritos.\n",
    "- A diferenciação de iridóforos é induzida por sinalização que reprime a expressão de fatores de transcrição específicos para outros fates.\n",
    "- O estudo suporta um modelo dinâmico de restrição de destino, onde as NCCs se inclinam para fates específicos influenciadas por sinais ambientais, denominado Restrição de Destino Cíclica (CFR).\n",
    "  \n",
    "\n",
    "Este estudo avança o entendimento sobre a dinâmica de diferenciação das células da crista neural (NCCs) em peixes-zebra, focando especificamente no desenvolvimento de células pigmentares. Através da aplicação de perfilamento transcricional de célula única e técnicas de hibridização in situ, os autores fornecem evidências que suportam um modelo de restrição de destino dinâmico e direto, onde as NCCs retêm uma ampla multipotência até os estágios finais de diferenciação. A expressão da tirosina quinase de leucócitos (ltk) emerge como um marcador crucial na promoção da diferenciação de iridóforos, com a ativação de Ltk em NCCs dirigindo a formação de iridóforos em detrimento de outros destinos celulares. Este estudo propõe um modelo reconciliado de Restrição de Destino Cíclica (CFR), onde as NCCs mantêm alta multipotência enquanto se inclinam dinamicamente para destinos específicos, influenciadas por sinais ambientais."
   ]
  },
  {
   "cell_type": "markdown",
   "metadata": {},
   "source": []
  }
 ],
 "metadata": {
  "language_info": {
   "name": "python"
  }
 },
 "nbformat": 4,
 "nbformat_minor": 2
}
